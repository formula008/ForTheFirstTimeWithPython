{
  "nbformat": 4,
  "nbformat_minor": 0,
  "metadata": {
    "colab": {
      "provenance": [],
      "include_colab_link": true
    },
    "kernelspec": {
      "name": "python3",
      "display_name": "Python 3"
    },
    "language_info": {
      "name": "python"
    }
  },
  "cells": [
    {
      "cell_type": "markdown",
      "metadata": {
        "id": "view-in-github",
        "colab_type": "text"
      },
      "source": [
        "<a href=\"https://colab.research.google.com/github/formula008/ForTheFirstTimeWithPython/blob/main/08_%EB%8D%B0%EC%9D%B4%ED%84%B0_%EC%A0%84%EC%B2%98%EB%A6%AC_%EC%8B%A4%EC%A0%84%EB%B6%84%EC%84%9D.ipynb\" target=\"_parent\"><img src=\"https://colab.research.google.com/assets/colab-badge.svg\" alt=\"Open In Colab\"/></a>"
      ]
    },
    {
      "cell_type": "code",
      "execution_count": null,
      "metadata": {
        "id": "qC9O03yGu873"
      },
      "outputs": [],
      "source": [
        "import pandas as pd\n",
        "df = pd.read_csv('./titanic.csv')\n",
        "df.shape"
      ]
    },
    {
      "cell_type": "code",
      "source": [
        "df.isnull().sum()"
      ],
      "metadata": {
        "id": "xy0uLYulvO8_"
      },
      "execution_count": null,
      "outputs": []
    },
    {
      "cell_type": "code",
      "source": [
        "q1 = df['Fare'].quantile(.25)\n",
        "q3 = df['Fare'].quantile(.75)\n",
        "IQR = q3 - q1\n",
        "print('하한값:', q1 - 1.5 * IQR, '상한값:', q3 + 1.5 * IQR)\n",
        "\n",
        "out1 = df[df['Fare'] < (q1 - 1.5 * IQR)]\n",
        "out2 = df[df['Fare'] > (q3 + 1.5 * IQR)]\n",
        "len(out1), len(out2)"
      ],
      "metadata": {
        "id": "kz0mYqsQvWwS"
      },
      "execution_count": null,
      "outputs": []
    },
    {
      "cell_type": "code",
      "source": [
        "sum(out2['Sex'] == 'male')"
      ],
      "metadata": {
        "id": "al3zCKs9v5VV"
      },
      "execution_count": null,
      "outputs": []
    }
  ]
}