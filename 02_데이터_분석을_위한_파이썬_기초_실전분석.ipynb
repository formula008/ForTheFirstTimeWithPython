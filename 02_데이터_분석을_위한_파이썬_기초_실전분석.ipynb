{
  "nbformat": 4,
  "nbformat_minor": 0,
  "metadata": {
    "colab": {
      "provenance": [],
      "include_colab_link": true
    },
    "kernelspec": {
      "name": "python3",
      "display_name": "Python 3"
    },
    "language_info": {
      "name": "python"
    }
  },
  "cells": [
    {
      "cell_type": "markdown",
      "metadata": {
        "id": "view-in-github",
        "colab_type": "text"
      },
      "source": [
        "<a href=\"https://colab.research.google.com/github/formula008/ForTheFirstTimeWithPython/blob/main/02_%EB%8D%B0%EC%9D%B4%ED%84%B0_%EB%B6%84%EC%84%9D%EC%9D%84_%EC%9C%84%ED%95%9C_%ED%8C%8C%EC%9D%B4%EC%8D%AC_%EA%B8%B0%EC%B4%88_%EC%8B%A4%EC%A0%84%EB%B6%84%EC%84%9D.ipynb\" target=\"_parent\"><img src=\"https://colab.research.google.com/assets/colab-badge.svg\" alt=\"Open In Colab\"/></a>"
      ]
    },
    {
      "cell_type": "code",
      "execution_count": null,
      "metadata": {
        "id": "8mfnbBwSe3dA"
      },
      "outputs": [],
      "source": [
        "def interest_year(p, r, n):\n",
        "  return p * (1+r)**n\n",
        "\n",
        "p = 30000000\n",
        "r = 0.051\n",
        "n = 3\n",
        "\n",
        "result = interest_year(p, r, n)\n",
        "\n",
        "print('원금: {0}, 이자: {1}'.format(p, result-p))"
      ]
    }
  ]
}