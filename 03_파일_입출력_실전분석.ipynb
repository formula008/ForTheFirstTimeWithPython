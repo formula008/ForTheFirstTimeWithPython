{
  "nbformat": 4,
  "nbformat_minor": 0,
  "metadata": {
    "colab": {
      "provenance": [],
      "include_colab_link": true
    },
    "kernelspec": {
      "name": "python3",
      "display_name": "Python 3"
    },
    "language_info": {
      "name": "python"
    }
  },
  "cells": [
    {
      "cell_type": "markdown",
      "metadata": {
        "id": "view-in-github",
        "colab_type": "text"
      },
      "source": [
        "<a href=\"https://colab.research.google.com/github/formula008/ForTheFirstTimeWithPython/blob/main/03_%ED%8C%8C%EC%9D%BC_%EC%9E%85%EC%B6%9C%EB%A0%A5_%EC%8B%A4%EC%A0%84%EB%B6%84%EC%84%9D.ipynb\" target=\"_parent\"><img src=\"https://colab.research.google.com/assets/colab-badge.svg\" alt=\"Open In Colab\"/></a>"
      ]
    },
    {
      "cell_type": "code",
      "execution_count": null,
      "metadata": {
        "id": "izVMXPjmDgJG"
      },
      "outputs": [],
      "source": [
        "from google.colab import files\n",
        "\n",
        "f = files.upload()"
      ]
    },
    {
      "cell_type": "code",
      "source": [
        "import openpyxl\n",
        "\n",
        "wb = openpyxl.Workbook()\n",
        "ws = wb.active"
      ],
      "metadata": {
        "id": "W_N66MWHL7bo"
      },
      "execution_count": null,
      "outputs": []
    },
    {
      "cell_type": "code",
      "source": [
        "import csv\n",
        "\n",
        "with open('data1.csv', encoding ='cp949') as f:\n",
        "  reader = csv.reader(f)\n",
        "  for row in reader:\n",
        "    ws.append(row)"
      ],
      "metadata": {
        "id": "JPDB_eBxL9-m"
      },
      "execution_count": null,
      "outputs": []
    },
    {
      "cell_type": "code",
      "source": [
        "ws2 = wb.create_sheet('Sheet2')\n",
        "\n",
        "with open('data2.csv', encoding ='cp949') as f:\n",
        "  reader = csv.reader(f)\n",
        "  for row in reader:\n",
        "    ws2.append(row)"
      ],
      "metadata": {
        "id": "A8UFiMbxL-ap"
      },
      "execution_count": null,
      "outputs": []
    },
    {
      "cell_type": "code",
      "source": [
        "ws3 = wb.create_sheet('Sheet3')\n",
        "\n",
        "with open('data3.csv', encoding ='cp949') as f:\n",
        "  reader = csv.reader(f)\n",
        "  for row in reader:\n",
        "    ws3.append(row)"
      ],
      "metadata": {
        "id": "ugRQafIkL_hT"
      },
      "execution_count": null,
      "outputs": []
    },
    {
      "cell_type": "code",
      "source": [
        "ws.title = '경기도 의정부시_의정부경전철 혼잡도'\n",
        "ws2.title = '대전교통공사_열차 혼잡도 분석'\n",
        "ws3.title = '서울특별시_지하철 혼잡도 정보'\n",
        "\n",
        "wb.save('traffic.xlsx')"
      ],
      "metadata": {
        "id": "2N7aPpbvMIUG"
      },
      "execution_count": null,
      "outputs": []
    }
  ]
}